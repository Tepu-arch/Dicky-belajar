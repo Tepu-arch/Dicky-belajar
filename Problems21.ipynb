{
 "cells": [
  {
   "cell_type": "code",
   "execution_count": 1,
   "metadata": {},
   "outputs": [],
   "source": [
    "import math\n",
    "from functools import lru_cache"
   ]
  },
  {
   "cell_type": "code",
   "execution_count": 2,
   "metadata": {},
   "outputs": [
    {
     "name": "stdout",
     "output_type": "stream",
     "text": [
      "31626\n"
     ]
    }
   ],
   "source": [
    "@lru_cache(None)\n",
    "def sum_div(n):\n",
    "    # Taken from AJNeufeld's answer\n",
    "    total = 1\n",
    "    for x in range(2, int(math.sqrt(n) + 1)):\n",
    "        if n % x == 0:\n",
    "            total += x\n",
    "            y = n // x\n",
    "            if y > x:\n",
    "                total += y\n",
    "    return total\n",
    "\n",
    "def amicable_numbers(limit):\n",
    "    for a in range(limit):\n",
    "        b = sum_div(a)\n",
    "        if a != b and sum_div(b) == a:\n",
    "            yield a\n",
    "\n",
    "print(sum(amicable_numbers(10000)))"
   ]
  },
  {
   "cell_type": "code",
   "execution_count": null,
   "metadata": {},
   "outputs": [],
   "source": []
  }
 ],
 "metadata": {
  "kernelspec": {
   "display_name": "Python 3",
   "language": "python",
   "name": "python3"
  },
  "language_info": {
   "codemirror_mode": {
    "name": "ipython",
    "version": 3
   },
   "file_extension": ".py",
   "mimetype": "text/x-python",
   "name": "python",
   "nbconvert_exporter": "python",
   "pygments_lexer": "ipython3",
   "version": "3.7.0"
  }
 },
 "nbformat": 4,
 "nbformat_minor": 2
}
